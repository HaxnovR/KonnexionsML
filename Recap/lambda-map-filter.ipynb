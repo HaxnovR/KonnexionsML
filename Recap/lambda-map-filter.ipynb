{
  "nbformat": 4,
  "nbformat_minor": 0,
  "metadata": {
    "colab": {
      "name": "Untitled0.ipynb",
      "provenance": []
    },
    "kernelspec": {
      "name": "python3",
      "display_name": "Python 3"
    },
    "language_info": {
      "name": "python"
    }
  },
  "cells": [
    {
      "cell_type": "code",
      "execution_count": 6,
      "metadata": {
        "colab": {
          "base_uri": "https://localhost:8080/"
        },
        "id": "TWSAyZrCMXQb",
        "outputId": "efb8e618-69d5-487f-c047-fa176ed1cbe8"
      },
      "outputs": [
        {
          "output_type": "execute_result",
          "data": {
            "text/plain": [
              "['java', 'pearl', ['c', 'c++']]"
            ]
          },
          "metadata": {},
          "execution_count": 6
        }
      ],
      "source": [
        "l1= ['java', 'pearl']\n",
        "l1.append(['c', 'c++'])\n",
        "l1"
      ]
    },
    {
      "cell_type": "code",
      "source": [
        "l2= ['java', 'pearl']\n",
        "l2.extend(['c', 'c++'])\n",
        "l2"
      ],
      "metadata": {
        "colab": {
          "base_uri": "https://localhost:8080/"
        },
        "id": "ysDP1TzwTUWh",
        "outputId": "c80b3147-058e-494d-8d65-3cdde06c84d6"
      },
      "execution_count": 7,
      "outputs": [
        {
          "output_type": "execute_result",
          "data": {
            "text/plain": [
              "['java', 'pearl', 'c', 'c++']"
            ]
          },
          "metadata": {},
          "execution_count": 7
        }
      ]
    },
    {
      "cell_type": "code",
      "source": [
        "def add(x, y):\n",
        "    return x+y\n",
        "\n",
        "add(10,10)"
      ],
      "metadata": {
        "colab": {
          "base_uri": "https://localhost:8080/"
        },
        "id": "EeHjrPxCTcOn",
        "outputId": "ab02857a-3824-468c-c9b4-44480e8404dc"
      },
      "execution_count": 9,
      "outputs": [
        {
          "output_type": "execute_result",
          "data": {
            "text/plain": [
              "20"
            ]
          },
          "metadata": {},
          "execution_count": 9
        }
      ]
    },
    {
      "cell_type": "code",
      "source": [
        "f = lambda x,y : x+y\n",
        "f(10,20)"
      ],
      "metadata": {
        "colab": {
          "base_uri": "https://localhost:8080/"
        },
        "id": "UFJQ_3wEfTDH",
        "outputId": "9037cb08-6ee7-4647-c1b6-e534546d6acf"
      },
      "execution_count": 10,
      "outputs": [
        {
          "output_type": "execute_result",
          "data": {
            "text/plain": [
              "30"
            ]
          },
          "metadata": {},
          "execution_count": 10
        }
      ]
    },
    {
      "cell_type": "code",
      "source": [
        "def square(x):\n",
        "    return x*x\n",
        "\n",
        "lst = [1,2,3,4,5]\n",
        "list(map(square, l))"
      ],
      "metadata": {
        "colab": {
          "base_uri": "https://localhost:8080/"
        },
        "id": "M7JVlv-sf5pH",
        "outputId": "95709eaa-a68b-4423-fc84-52d453a4a810"
      },
      "execution_count": 16,
      "outputs": [
        {
          "output_type": "execute_result",
          "data": {
            "text/plain": [
              "[1, 4, 9, 16, 25]"
            ]
          },
          "metadata": {},
          "execution_count": 16
        }
      ]
    },
    {
      "cell_type": "code",
      "source": [
        "lst"
      ],
      "metadata": {
        "colab": {
          "base_uri": "https://localhost:8080/"
        },
        "id": "d4XfD0kJgpeU",
        "outputId": "80dbf7ca-17b0-451e-c320-54f32601854d"
      },
      "execution_count": 17,
      "outputs": [
        {
          "output_type": "execute_result",
          "data": {
            "text/plain": [
              "[1, 2, 3, 4, 5]"
            ]
          },
          "metadata": {},
          "execution_count": 17
        }
      ]
    },
    {
      "cell_type": "code",
      "source": [
        "list(map(lambda x : x*x, lst))"
      ],
      "metadata": {
        "colab": {
          "base_uri": "https://localhost:8080/"
        },
        "id": "1tzm8HrbgwQK",
        "outputId": "6b27a855-6b75-42d4-a5b2-224e69defd80"
      },
      "execution_count": 18,
      "outputs": [
        {
          "output_type": "execute_result",
          "data": {
            "text/plain": [
              "[1, 4, 9, 16, 25]"
            ]
          },
          "metadata": {},
          "execution_count": 18
        }
      ]
    },
    {
      "cell_type": "code",
      "source": [
        "# def checkOdd(x):\n",
        "#     return x%2 != 0\n",
        "\n",
        "mylist = [1,2,3,4,5,6,7,8,9,10]\n",
        "\n",
        "list(filter(lambda x : x%2 != 0, mylist))"
      ],
      "metadata": {
        "colab": {
          "base_uri": "https://localhost:8080/"
        },
        "id": "fMeP4AtNg3Xn",
        "outputId": "9e54bdd2-8ca4-4dfd-8aff-181b3eaa383f"
      },
      "execution_count": 22,
      "outputs": [
        {
          "output_type": "execute_result",
          "data": {
            "text/plain": [
              "[1, 3, 5, 7, 9]"
            ]
          },
          "metadata": {},
          "execution_count": 22
        }
      ]
    },
    {
      "cell_type": "code",
      "source": [
        "# list comprehension\n",
        "\n",
        "# [ expr for val in colletion]\n",
        "\n",
        "\n",
        "name = \"shivank singh\"\n",
        "res  = []\n",
        "for i in name :\n",
        "    res.append(i)"
      ],
      "metadata": {
        "id": "_Lc3mPK1hwPe"
      },
      "execution_count": 23,
      "outputs": []
    },
    {
      "cell_type": "code",
      "source": [
        "print(res)"
      ],
      "metadata": {
        "colab": {
          "base_uri": "https://localhost:8080/"
        },
        "id": "kW6OEBisjHPk",
        "outputId": "c696cd41-8ed6-4d44-ea9e-c7975ac90a4d"
      },
      "execution_count": 24,
      "outputs": [
        {
          "output_type": "stream",
          "name": "stdout",
          "text": [
            "['s', 'h', 'i', 'v', 'a', 'n', 'k', ' ', 's', 'i', 'n', 'g', 'h']\n"
          ]
        }
      ]
    },
    {
      "cell_type": "code",
      "source": [
        "[i for i in name]"
      ],
      "metadata": {
        "colab": {
          "base_uri": "https://localhost:8080/"
        },
        "id": "XMTp1hEgjJGR",
        "outputId": "75a7a713-9551-426b-ea21-e4d1c069cccc"
      },
      "execution_count": 25,
      "outputs": [
        {
          "output_type": "execute_result",
          "data": {
            "text/plain": [
              "['s', 'h', 'i', 'v', 'a', 'n', 'k', ' ', 's', 'i', 'n', 'g', 'h']"
            ]
          },
          "metadata": {},
          "execution_count": 25
        }
      ]
    },
    {
      "cell_type": "code",
      "source": [
        "[i**2 for i in range(1, 11)]"
      ],
      "metadata": {
        "colab": {
          "base_uri": "https://localhost:8080/"
        },
        "id": "mJNd6fn2jPXb",
        "outputId": "c584b98e-249b-47e0-8245-09b28d63e459"
      },
      "execution_count": 26,
      "outputs": [
        {
          "output_type": "execute_result",
          "data": {
            "text/plain": [
              "[1, 4, 9, 16, 25, 36, 49, 64, 81, 100]"
            ]
          },
          "metadata": {},
          "execution_count": 26
        }
      ]
    },
    {
      "cell_type": "code",
      "source": [
        "# 1 - 10\n",
        "# 2 - even\n",
        "# 3 - odd\n",
        "\n",
        "['even' if x%2==0 else 'odd' for x in range(1, 11)]"
      ],
      "metadata": {
        "colab": {
          "base_uri": "https://localhost:8080/"
        },
        "id": "GzRKeFLnjdq2",
        "outputId": "a52c5c1f-44f9-46e3-f057-8c536e6c0c55"
      },
      "execution_count": 28,
      "outputs": [
        {
          "output_type": "execute_result",
          "data": {
            "text/plain": [
              "['odd', 'even', 'odd', 'even', 'odd', 'even', 'odd', 'even', 'odd', 'even']"
            ]
          },
          "metadata": {},
          "execution_count": 28
        }
      ]
    },
    {
      "cell_type": "code",
      "source": [
        ""
      ],
      "metadata": {
        "id": "a5p97j6Sj2le"
      },
      "execution_count": null,
      "outputs": []
    }
  ]
}